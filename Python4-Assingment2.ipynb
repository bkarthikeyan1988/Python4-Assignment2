{
 "cells": [
  {
   "cell_type": "markdown",
   "metadata": {},
   "source": [
    "Write a Python program using function concept that maps list of words into a list of integers\n",
    "representing the lengths of the corresponding words.\n",
    "Hint: If a list [ ab,cde,erty] is passed on to the python function output should come as [2,3,4]\n",
    "Here 2,3 and 4 are the lengths of the words in the list."
   ]
  },
  {
   "cell_type": "code",
   "execution_count": 3,
   "metadata": {},
   "outputs": [
    {
     "name": "stdout",
     "output_type": "stream",
     "text": [
      "List of words:['FirstWords', 'SecondWord', 'ThirdWord', 'FourthWord', 'FivthWord']\n",
      "List of wordlength:[10, 10, 9, 10, 9]\n"
     ]
    }
   ],
   "source": [
    "ListOfWords = ['FirstWord','SecondWord','ThirdWord','FourthWord','FivthWord']\n",
    " \n",
    "WordsChar = []\n",
    " \n",
    "for i in range(len(ListOfWords)):\n",
    "    WordsChar.append(len(ListOfWords[i]))\n",
    " \n",
    "print (\"List of words:\"+str(ListOfWords))    \n",
    "print (\"List of wordlength:\"+str(WordsChar))"
   ]
  },
  {
   "cell_type": "markdown",
   "metadata": {},
   "source": [
    "***********************************************\n",
    "Write a Python function which takes a character (i.e. a string of length 1) and returns True if it is\n",
    "a vowel, False otherwise."
   ]
  },
  {
   "cell_type": "code",
   "execution_count": 6,
   "metadata": {},
   "outputs": [
    {
     "name": "stdout",
     "output_type": "stream",
     "text": [
      "True. I is a vowel.\n"
     ]
    }
   ],
   "source": [
    "char = input(\"Input a character of the English alphabet: \")\n",
    "\n",
    "if char in ('a', 'A', 'e', 'E', 'i', 'I', 'o', 'O', 'u', 'U'):\n",
    "    print(\"True. %s is a vowel.\" %char)\n",
    "else:\n",
    "    print(\"False. %s is not a vowel, it is a consonant.\" %char) "
   ]
  },
  {
   "cell_type": "code",
   "execution_count": null,
   "metadata": {},
   "outputs": [],
   "source": []
  }
 ],
 "metadata": {
  "kernelspec": {
   "display_name": "Python 3",
   "language": "python",
   "name": "python3"
  },
  "language_info": {
   "codemirror_mode": {
    "name": "ipython",
    "version": 3
   },
   "file_extension": ".py",
   "mimetype": "text/x-python",
   "name": "python",
   "nbconvert_exporter": "python",
   "pygments_lexer": "ipython3",
   "version": "3.6.4"
  }
 },
 "nbformat": 4,
 "nbformat_minor": 2
}
